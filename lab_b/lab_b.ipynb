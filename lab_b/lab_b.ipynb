{
 "cells": [
  {
   "cell_type": "markdown",
   "id": "9e26f858",
   "metadata": {},
   "source": [
    "# Lab B template code"
   ]
  },
  {
   "cell_type": "code",
   "execution_count": 1,
   "id": "cd12b8c2",
   "metadata": {},
   "outputs": [],
   "source": [
    "# Get user input. Do not edit this cell\n",
    "height = input(\"Enter cylinder height in meters\")"
   ]
  },
  {
   "cell_type": "code",
   "execution_count": 2,
   "id": "0deb326f",
   "metadata": {},
   "outputs": [],
   "source": [
    "# Solution code - Enter your code here\n"
   ]
  }
 ],
 "metadata": {
  "kernelspec": {
   "display_name": ".venv",
   "language": "python",
   "name": "python3"
  },
  "language_info": {
   "codemirror_mode": {
    "name": "ipython",
    "version": 3
   },
   "file_extension": ".py",
   "mimetype": "text/x-python",
   "name": "python",
   "nbconvert_exporter": "python",
   "pygments_lexer": "ipython3",
   "version": "3.13.5"
  }
 },
 "nbformat": 4,
 "nbformat_minor": 5
}
